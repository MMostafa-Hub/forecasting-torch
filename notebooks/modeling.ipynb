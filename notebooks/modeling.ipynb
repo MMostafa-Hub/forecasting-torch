{
 "cells": [
  {
   "cell_type": "markdown",
   "metadata": {},
   "source": [
    "# Import Libraries"
   ]
  },
  {
   "cell_type": "code",
   "execution_count": 2,
   "metadata": {},
   "outputs": [],
   "source": [
    "import pandas as pd\n",
    "import torch\n",
    "import numpy as np\n",
    "from torch.utils.data import Dataset, DataLoader\n",
    "from torch import nn\n",
    "import matplotlib.pyplot as plt"
   ]
  },
  {
   "cell_type": "markdown",
   "metadata": {},
   "source": [
    "# Load the Datasets"
   ]
  },
  {
   "cell_type": "code",
   "execution_count": 8,
   "metadata": {},
   "outputs": [],
   "source": [
    "train_df = pd.read_csv(\"../data/pre_train.csv\", index_col=0)\n",
    "val_df = pd.read_csv(\"../data/pre_val.csv\", index_col=0)\n",
    "test_df = pd.read_csv(\"../data/pre_test.csv\", index_col=0)"
   ]
  },
  {
   "cell_type": "markdown",
   "metadata": {},
   "source": [
    "## Data Windowing\n",
    "\n",
    "The models will make a set of predictions based on a window of consecutive samples from the data.\n",
    "\n",
    "So, we will create Dataset Class that will be responsible for splitting the data into windows.\n",
    "\n",
    "We will make the dataset adapt to the type of model we want to train (multi-output or single-output) by changing the `label_columns` parameter."
   ]
  },
  {
   "cell_type": "code",
   "execution_count": 3,
   "metadata": {},
   "outputs": [],
   "source": [
    "class TimeSeriesDataset(Dataset):\n",
    "    def __init__(\n",
    "        self,\n",
    "        data: pd.DataFrame,\n",
    "        label_column: str = \"Temp\",\n",
    "        input_width: int = 1,\n",
    "        output_width: int = 1,\n",
    "        shift: int = 1,\n",
    "    ):\n",
    "        self.data_df = data\n",
    "        self.data = data.to_numpy()\n",
    "        self.input_width = input_width\n",
    "        self.output_width = output_width\n",
    "        self.shift = shift\n",
    "\n",
    "        if label_column:\n",
    "            self.label_column_idx = data.columns.get_loc(label_column)\n",
    "        else:\n",
    "            self.label_column_idx = slice(None)\n",
    "\n",
    "    def __len__(self):\n",
    "        return (\n",
    "            self.data.shape[0] - (self.input_width + self.output_width + self.shift) + 1\n",
    "        )\n",
    "\n",
    "    def __getitem__(self, idx):\n",
    "        start_idx = idx\n",
    "        end_idx = idx + self.input_width\n",
    "        features = self.data[start_idx:end_idx]\n",
    "\n",
    "        start_idx = end_idx + self.shift\n",
    "        end_idx = start_idx + self.output_width\n",
    "        labels = self.data[start_idx:end_idx, self.label_column_idx]\n",
    "        return {\"features\": features, \"labels\": labels}"
   ]
  },
  {
   "cell_type": "markdown",
   "metadata": {},
   "source": [
    "Create a function to plot the input features, label, and prediction over a batch."
   ]
  },
  {
   "cell_type": "code",
   "execution_count": 11,
   "metadata": {},
   "outputs": [],
   "source": [
    "def plot_windows(\n",
    "    dataset: TimeSeriesDataset,\n",
    "    features_batch: torch.tensor,\n",
    "    labels_batch: torch.tensor,\n",
    "    model: nn.Module = None,\n",
    "    plot_column: str = \"Temp\",\n",
    "    num_samples: int = 1,\n",
    "):\n",
    "    \"\"\"Plot the features, Labels and predictions for a single batch created by the dataloader\"\"\"\n",
    "    _, axes = plt.subplots(\n",
    "        nrows=num_samples,\n",
    "        ncols=1,\n",
    "        figsize=(14, 5 * num_samples),\n",
    "        sharex=True,\n",
    "        sharey=True,\n",
    "    )\n",
    "    plot_col_index = dataset.data_df.columns.get_loc(plot_column)\n",
    "\n",
    "    for i, ax in enumerate(np.array(axes).reshape(-1)):\n",
    "        features = features_batch[i, ...].numpy()\n",
    "        labels = labels_batch[i, ...].numpy()\n",
    "        if model:\n",
    "            preds = model(features)\n",
    "\n",
    "        # Plotting the features labels\n",
    "        ax.plot(\n",
    "            range(dataset.input_width),\n",
    "            features[:, plot_col_index],\n",
    "            label=\"Input Feature Labels\",\n",
    "            marker=\".\",\n",
    "        )\n",
    "        # Plotting the true labels\n",
    "        ax.scatter(\n",
    "            range(\n",
    "                dataset.input_width + dataset.shift,\n",
    "                dataset.input_width + dataset.shift + dataset.output_width,\n",
    "            ),\n",
    "            labels,\n",
    "            label=\"True Labels\",\n",
    "            marker=\"o\",\n",
    "            c=\"green\",\n",
    "        )\n",
    "        if model:\n",
    "            # Plotting the predicted labels\n",
    "            ax.scatter(\n",
    "                range(\n",
    "                    dataset.input_width + dataset.shift,\n",
    "                    dataset.input_width + dataset.shift + dataset.output_width,\n",
    "                ),\n",
    "                preds,\n",
    "                label=\"Predictions\",\n",
    "                marker=\"x\",\n",
    "                color=\"orange\",\n",
    "            )\n",
    "    plt.legend(loc=\"upper left\")\n",
    "    plt.show()"
   ]
  },
  {
   "cell_type": "code",
   "execution_count": 12,
   "metadata": {},
   "outputs": [
    {
     "data": {
      "image/png": "[encoded data removed]",
      "text/plain": [
       "<Figure size 1400x500 with 1 Axes>"
      ]
     },
     "metadata": {},
     "output_type": "display_data"
    }
   ],
   "source": [
    "# Try to plot the first batch of the training data\n",
    "train_dataset = TimeSeriesDataset(\n",
    "    train_df, input_width=24, output_width=1, shift=24, label_column=\"Temp\"\n",
    ")\n",
    "train_dataloader = DataLoader(train_dataset, batch_size=2)\n",
    "\n",
    "for batch in train_dataloader:\n",
    "    features = batch[\"features\"]\n",
    "    labels = batch[\"labels\"]\n",
    "    plot_windows(train_dataset, features, labels)\n",
    "    break"
   ]
  },
  {
   "cell_type": "markdown",
   "metadata": {},
   "source": [
    "## Models Architecture"
   ]
  },
  {
   "cell_type": "markdown",
   "metadata": {},
   "source": [
    "### Baseline\n",
    "\n",
    "We will use a simple Linear model as a baseline."
   ]
  },
  {
   "cell_type": "code",
   "execution_count": null,
   "metadata": {},
   "outputs": [],
   "source": [
    "class LinearRegressionModel(nn.Module):\n",
    "    def __init__(self, input_dim, output_dim):\n",
    "        super(LinearRegressionModel, self).__init__()\n",
    "        self.linear = nn.Linear(input_dim, output_dim)\n",
    "\n",
    "    def forward(self, x):\n",
    "        out = self.linear(x)\n",
    "        return out"
   ]
  },
  {
   "cell_type": "markdown",
   "metadata": {},
   "source": [
    "### Single Step Model"
   ]
  }
 ],
 "metadata": {
  "kernelspec": {
   "display_name": "aienv10",
   "language": "python",
   "name": "python3"
  },
  "language_info": {
   "codemirror_mode": {
    "name": "ipython",
    "version": 3
   },
   "file_extension": ".py",
   "mimetype": "text/x-python",
   "name": "python",
   "nbconvert_exporter": "python",
   "pygments_lexer": "ipython3",
   "version": "3.10.13"
  }
 },
 "nbformat": 4,
 "nbformat_minor": 2
}
